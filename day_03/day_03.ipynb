{
 "cells": [
  {
   "cell_type": "code",
   "execution_count": 278,
   "outputs": [],
   "source": [
    "values = []\n",
    "with open('input') as f:\n",
    "    values = list(map(lambda x: x.strip(), f.readlines()))"
   ],
   "metadata": {
    "collapsed": false,
    "pycharm": {
     "name": "#%%\n"
    }
   }
  },
  {
   "cell_type": "code",
   "execution_count": 279,
   "outputs": [
    {
     "data": {
      "text/plain": "(defaultdict(int,\n             {0: 473,\n              2: 505,\n              5: 493,\n              7: 518,\n              8: 507,\n              6: 490,\n              10: 495,\n              1: 513,\n              11: 498,\n              9: 494,\n              3: 505,\n              4: 499}),\n defaultdict(int,\n             {1: 487,\n              3: 495,\n              4: 501,\n              6: 510,\n              9: 506,\n              10: 505,\n              11: 502,\n              2: 495,\n              5: 507,\n              7: 482,\n              0: 527,\n              8: 493}))"
     },
     "execution_count": 279,
     "metadata": {},
     "output_type": "execute_result"
    }
   ],
   "source": [
    "from collections import defaultdict\n",
    "\n",
    "ones = defaultdict(int) #will have one entry per char\n",
    "zeros = defaultdict(int)\n",
    "for line in values:\n",
    "    for index, char in enumerate(line):\n",
    "        if char == '1':\n",
    "            ones[index] = ones[index] + 1\n",
    "        elif char == '0':\n",
    "            zeros[index] = zeros[index] + 1\n",
    "ones, zeros"
   ],
   "metadata": {
    "collapsed": false,
    "pycharm": {
     "name": "#%%\n"
    }
   }
  },
  {
   "cell_type": "code",
   "execution_count": 280,
   "outputs": [],
   "source": [
    "binary_gamma_bytes = {}\n",
    "for i in range(12):\n",
    "    binary_gamma_bytes[i] = str(int(ones[i] > zeros[i]))\n",
    "binary_gamma_str = ''.join(binary_gamma_bytes.values())\n",
    "binary_gamma = int(binary_gamma_str, 2)"
   ],
   "metadata": {
    "collapsed": false,
    "pycharm": {
     "name": "#%%\n"
    }
   }
  },
  {
   "cell_type": "code",
   "execution_count": 281,
   "outputs": [],
   "source": [
    "epsilon_gamma_bytes = {}\n",
    "for i in range(12):\n",
    "    epsilon_gamma_bytes[i] = str(int(ones[i] < zeros[i]))\n",
    "epsilon_gamma = ''.join(epsilon_gamma_bytes.values())\n",
    "epsilon_gamma = int(epsilon_gamma, 2)"
   ],
   "metadata": {
    "collapsed": false,
    "pycharm": {
     "name": "#%%\n"
    }
   }
  },
  {
   "cell_type": "code",
   "execution_count": 282,
   "outputs": [
    {
     "data": {
      "text/plain": "4138664"
     },
     "execution_count": 282,
     "metadata": {},
     "output_type": "execute_result"
    }
   ],
   "source": [
    "binary_gamma * epsilon_gamma"
   ],
   "metadata": {
    "collapsed": false,
    "pycharm": {
     "name": "#%%\n"
    }
   }
  },
  {
   "cell_type": "code",
   "execution_count": 283,
   "outputs": [],
   "source": [
    "def bytes_at(values, position):\n",
    "    ones = 0\n",
    "    zeros = 0\n",
    "    for value in values:\n",
    "        if value[position] == '1':\n",
    "            ones = ones + 1\n",
    "        else:\n",
    "            zeros = zeros + 1\n",
    "    return (ones, zeros)"
   ],
   "metadata": {
    "collapsed": false,
    "pycharm": {
     "name": "#%%\n"
    }
   }
  },
  {
   "cell_type": "code",
   "execution_count": 284,
   "outputs": [
    {
     "name": "stdout",
     "output_type": "stream",
     "text": [
      "most common byte = 0 for idx 0\n",
      "remaining 527\n",
      "most common byte = 1 for idx 1\n",
      "remaining 272\n",
      "most common byte = 1 for idx 2\n",
      "remaining 139\n",
      "most common byte = 1 for idx 3\n",
      "remaining 81\n",
      "most common byte = 1 for idx 4\n",
      "remaining 42\n",
      "most common byte = 1 for idx 5\n",
      "remaining 21\n",
      "most common byte = 1 for idx 6\n",
      "remaining 12\n",
      "most common byte = 0 for idx 7\n",
      "remaining 7\n",
      "most common byte = 1 for idx 8\n",
      "remaining 4\n",
      "most common byte = 1 for idx 9\n",
      "remaining 2\n",
      "most common byte = 1 for idx 10\n",
      "remaining 1\n"
     ]
    }
   ],
   "source": [
    "values_cpy = values.copy()\n",
    "for i in range(12):\n",
    "    ones, zeros = bytes_at(values_cpy, i)\n",
    "    most_common_byte = int(ones >= zeros)\n",
    "    print(f'most common byte = {most_common_byte} for idx {i}')\n",
    "    values_to_remove = []\n",
    "    for value in values_cpy:\n",
    "        if int(value[i]) != most_common_byte:\n",
    "            values_to_remove.append(value)\n",
    "    for value in values_to_remove:\n",
    "        values_cpy.remove(value)\n",
    "    print(f'remaining {len(values_cpy)}')\n",
    "    if len(values_cpy) == 1:\n",
    "        break\n",
    "o2_generator_rating = int(values_cpy[0], 2)"
   ],
   "metadata": {
    "collapsed": false,
    "pycharm": {
     "name": "#%%\n"
    }
   }
  },
  {
   "cell_type": "code",
   "execution_count": 285,
   "outputs": [
    {
     "name": "stdout",
     "output_type": "stream",
     "text": [
      "least common byte = 1 for idx 0\n",
      "remaining 473\n",
      "least common byte = 0 for idx 1\n",
      "remaining 232\n",
      "least common byte = 0 for idx 2\n",
      "remaining 113\n",
      "least common byte = 0 for idx 3\n",
      "remaining 56\n",
      "least common byte = 0 for idx 4\n",
      "remaining 28\n",
      "least common byte = 0 for idx 5\n",
      "remaining 12\n",
      "least common byte = 1 for idx 6\n",
      "remaining 4\n",
      "least common byte = 1 for idx 7\n"
     ]
    }
   ],
   "source": [
    "values_cpy = values.copy()\n",
    "for i in range(12):\n",
    "    ones, zeros = bytes_at(values_cpy, i)\n",
    "    least_common_byte = int(zeros > ones)\n",
    "    print(f'least common byte = {least_common_byte} for idx {i}')\n",
    "    values_to_remove = []\n",
    "    for value in values_cpy:\n",
    "        if int(value[i]) != least_common_byte:\n",
    "            values_to_remove.append(value)\n",
    "    for value in values_to_remove:\n",
    "        values_cpy.remove(value)\n",
    "    if len(values_cpy) == 1:\n",
    "        break\n",
    "    print(f'remaining {len(values_cpy)}')\n",
    "co2_scrubber_rating = int(values_cpy[0], 2)"
   ],
   "metadata": {
    "collapsed": false,
    "pycharm": {
     "name": "#%%\n"
    }
   }
  },
  {
   "cell_type": "code",
   "execution_count": 286,
   "outputs": [
    {
     "data": {
      "text/plain": "4273224"
     },
     "execution_count": 286,
     "metadata": {},
     "output_type": "execute_result"
    }
   ],
   "source": [
    "o2_generator_rating * co2_scrubber_rating"
   ],
   "metadata": {
    "collapsed": false,
    "pycharm": {
     "name": "#%%\n"
    }
   }
  }
 ],
 "metadata": {
  "kernelspec": {
   "display_name": "Python 3",
   "language": "python",
   "name": "python3"
  },
  "language_info": {
   "codemirror_mode": {
    "name": "ipython",
    "version": 2
   },
   "file_extension": ".py",
   "mimetype": "text/x-python",
   "name": "python",
   "nbconvert_exporter": "python",
   "pygments_lexer": "ipython2",
   "version": "2.7.6"
  }
 },
 "nbformat": 4,
 "nbformat_minor": 0
}
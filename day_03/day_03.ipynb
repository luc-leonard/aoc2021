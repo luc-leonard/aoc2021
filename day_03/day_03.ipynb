{
 "cells": [
  {
   "cell_type": "code",
   "execution_count": 2,
   "metadata": {
    "collapsed": true
   },
   "outputs": [],
   "source": [
    "import pandas as pd"
   ]
  },
  {
   "cell_type": "code",
   "execution_count": 4,
   "outputs": [],
   "source": [
    "#df = pd.read_csv('input', names=['value'], dtype={'value': 'str'})"
   ],
   "metadata": {
    "collapsed": false,
    "pycharm": {
     "name": "#%%\n"
    }
   }
  },
  {
   "cell_type": "code",
   "execution_count": 6,
   "outputs": [
    {
     "data": {
      "text/plain": "(defaultdict(int,\n             {0: 473,\n              2: 505,\n              5: 493,\n              7: 518,\n              8: 507,\n              6: 490,\n              10: 495,\n              1: 513,\n              11: 498,\n              9: 494,\n              3: 505,\n              4: 499}),\n defaultdict(int,\n             {1: 487,\n              3: 495,\n              4: 501,\n              6: 510,\n              9: 506,\n              10: 505,\n              11: 502,\n              2: 495,\n              5: 507,\n              7: 482,\n              0: 527,\n              8: 493}))"
     },
     "execution_count": 6,
     "metadata": {},
     "output_type": "execute_result"
    }
   ],
   "source": [
    "from collections import defaultdict\n",
    "\n",
    "ones = defaultdict(int) #will have one entry per char\n",
    "zeros = defaultdict(int)\n",
    "with open('input') as f:\n",
    "    for line in f.readlines():\n",
    "        for index, char in enumerate(line):\n",
    "            if char == '1':\n",
    "                ones[index] = ones[index] + 1\n",
    "            elif char == '0':\n",
    "                zeros[index] = zeros[index] + 1\n",
    "ones, zeros"
   ],
   "metadata": {
    "collapsed": false,
    "pycharm": {
     "name": "#%%\n"
    }
   }
  },
  {
   "cell_type": "code",
   "execution_count": 13,
   "outputs": [
    {
     "data": {
      "text/plain": "1816"
     },
     "execution_count": 13,
     "metadata": {},
     "output_type": "execute_result"
    }
   ],
   "source": [
    "binary_gamma = {}\n",
    "for i in range(12):\n",
    "    binary_gamma[i] = str(int(ones[i] > zeros[i]))\n",
    "binary_gamma_str = ''.join(binary_gamma.values())\n",
    "int(binary_gamma_str, 2)"
   ],
   "metadata": {
    "collapsed": false,
    "pycharm": {
     "name": "#%%\n"
    }
   }
  },
  {
   "cell_type": "code",
   "execution_count": 14,
   "outputs": [
    {
     "data": {
      "text/plain": "2279"
     },
     "execution_count": 14,
     "metadata": {},
     "output_type": "execute_result"
    }
   ],
   "source": [
    "epsilon_gamma = {}\n",
    "for i in range(12):\n",
    "    epsilon_gamma[i] = str(int(ones[i] < zeros[i]))\n",
    "epsilon_gamma = ''.join(epsilon_gamma.values())\n",
    "int(epsilon_gamma, 2)"
   ],
   "metadata": {
    "collapsed": false,
    "pycharm": {
     "name": "#%%\n"
    }
   }
  },
  {
   "cell_type": "code",
   "execution_count": 15,
   "outputs": [
    {
     "data": {
      "text/plain": "4138664"
     },
     "execution_count": 15,
     "metadata": {},
     "output_type": "execute_result"
    }
   ],
   "source": [
    "1816 * 2279"
   ],
   "metadata": {
    "collapsed": false,
    "pycharm": {
     "name": "#%%\n"
    }
   }
  },
  {
   "cell_type": "code",
   "execution_count": null,
   "outputs": [],
   "source": [],
   "metadata": {
    "collapsed": false,
    "pycharm": {
     "name": "#%%\n"
    }
   }
  }
 ],
 "metadata": {
  "kernelspec": {
   "display_name": "Python 3",
   "language": "python",
   "name": "python3"
  },
  "language_info": {
   "codemirror_mode": {
    "name": "ipython",
    "version": 2
   },
   "file_extension": ".py",
   "mimetype": "text/x-python",
   "name": "python",
   "nbconvert_exporter": "python",
   "pygments_lexer": "ipython2",
   "version": "2.7.6"
  }
 },
 "nbformat": 4,
 "nbformat_minor": 0
}
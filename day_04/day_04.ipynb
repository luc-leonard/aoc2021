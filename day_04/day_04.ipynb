{
 "cells": [
  {
   "cell_type": "code",
   "execution_count": 69,
   "outputs": [],
   "source": [
    "import numpy as np"
   ],
   "metadata": {
    "collapsed": false,
    "pycharm": {
     "name": "#%%\n"
    }
   }
  },
  {
   "cell_type": "code",
   "execution_count": 70,
   "metadata": {
    "collapsed": true
   },
   "outputs": [],
   "source": [
    "with open('input') as f:\n",
    "    # first line is drawn numbers\n",
    "    drawn_numbers = list(map(int, f.readline().split(',')))\n",
    "    all_boards = []\n",
    "    current_board = []\n",
    "    for line in f:\n",
    "        if len(line) == 1 and len(current_board) > 0:\n",
    "            all_boards.append(current_board)\n",
    "            current_board = []\n",
    "        elif len(line) > 1:\n",
    "            current_board.append(list(map(int, line.strip().split())))\n",
    "\n",
    "#remaining...\n",
    "if len(current_board) > 0:\n",
    "    all_boards.append(current_board)\n",
    "all_boards = np.array(all_boards)"
   ]
  },
  {
   "cell_type": "code",
   "execution_count": 71,
   "outputs": [
    {
     "data": {
      "text/plain": "31424"
     },
     "execution_count": 71,
     "metadata": {},
     "output_type": "execute_result"
    }
   ],
   "source": [
    "import numpy as np\n",
    "\n",
    "# create a boolean array with the same shape as the boards and set it to false\n",
    "board_mask = np.zeros(all_boards.shape, dtype=bool)\n",
    "\n",
    "def board_score(board, mask):\n",
    "    return np.sum(board * ~mask)\n",
    "\n",
    "# returns True if one of the masks has either one row full of True or one column full of True\n",
    "def is_solved(mask):\n",
    "    return np.all(mask, axis=0).any() or np.all(mask, axis=1).any()\n",
    "\n",
    "# returns the index of the solved mask\n",
    "def find_solved(masks):\n",
    "    winning = np.array([is_solved(mask) for mask in masks])\n",
    "    return np.where(winning)[0]\n",
    "\n",
    "def find_winning_board(boards, masks, drawn_numbers):\n",
    "    for number in drawn_numbers:\n",
    "        masks = masks | (boards == number)\n",
    "        solved_masks_idx = find_solved(masks)\n",
    "        if len(solved_masks_idx) > 0:\n",
    "            return masks[solved_masks_idx], boards[solved_masks_idx], number\n",
    "    return None, None, None\n",
    "\n",
    "winning_mask, winning_board, last_number = find_winning_board(all_boards, board_mask, drawn_numbers)\n",
    "board_score(winning_board, winning_mask) * last_number"
   ],
   "metadata": {
    "collapsed": false,
    "pycharm": {
     "name": "#%%\n"
    }
   }
  },
  {
   "cell_type": "code",
   "execution_count": 72,
   "outputs": [
    {
     "data": {
      "text/plain": "23042"
     },
     "execution_count": 72,
     "metadata": {},
     "output_type": "execute_result"
    }
   ],
   "source": [
    "def find_losing_board(boards, masks, drawn_numbers):\n",
    "    for number in drawn_numbers:\n",
    "        masks = masks | (boards == number)\n",
    "        solved_masks_idx = find_solved(masks)\n",
    "        if len(solved_masks_idx) > 0:\n",
    "            # we solved the last board.\n",
    "            if len(boards) == 1:\n",
    "                return boards, masks, number\n",
    "            boards = np.delete(boards, solved_masks_idx, axis=0)\n",
    "            masks =  np.delete(masks, solved_masks_idx, axis=0)\n",
    "\n",
    "    return None, None, None\n",
    "\n",
    "losing_board, losing_mask, last_number = find_losing_board(all_boards, board_mask, drawn_numbers)\n",
    "board_score(losing_board, losing_mask) * last_number"
   ],
   "metadata": {
    "collapsed": false,
    "pycharm": {
     "name": "#%%\n"
    }
   }
  }
 ],
 "metadata": {
  "kernelspec": {
   "display_name": "Python 3",
   "language": "python",
   "name": "python3"
  },
  "language_info": {
   "codemirror_mode": {
    "name": "ipython",
    "version": 2
   },
   "file_extension": ".py",
   "mimetype": "text/x-python",
   "name": "python",
   "nbconvert_exporter": "python",
   "pygments_lexer": "ipython2",
   "version": "2.7.6"
  }
 },
 "nbformat": 4,
 "nbformat_minor": 0
}
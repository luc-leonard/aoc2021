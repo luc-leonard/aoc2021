{
 "cells": [
  {
   "cell_type": "code",
   "execution_count": 1,
   "metadata": {
    "collapsed": true
   },
   "outputs": [],
   "source": [
    "import pandas as pd"
   ]
  },
  {
   "cell_type": "code",
   "execution_count": 9,
   "outputs": [],
   "source": [
    "df = pd.read_csv('input', delimiter=' ', names=['direction', 'value'])"
   ],
   "metadata": {
    "collapsed": false,
    "pycharm": {
     "name": "#%%\n"
    }
   }
  },
  {
   "cell_type": "code",
   "execution_count": 10,
   "outputs": [
    {
     "data": {
      "text/plain": "           value\ndirection       \ndown        2076\nforward     1923\nup          1075",
      "text/html": "<div>\n<style scoped>\n    .dataframe tbody tr th:only-of-type {\n        vertical-align: middle;\n    }\n\n    .dataframe tbody tr th {\n        vertical-align: top;\n    }\n\n    .dataframe thead th {\n        text-align: right;\n    }\n</style>\n<table border=\"1\" class=\"dataframe\">\n  <thead>\n    <tr style=\"text-align: right;\">\n      <th></th>\n      <th>value</th>\n    </tr>\n    <tr>\n      <th>direction</th>\n      <th></th>\n    </tr>\n  </thead>\n  <tbody>\n    <tr>\n      <th>down</th>\n      <td>2076</td>\n    </tr>\n    <tr>\n      <th>forward</th>\n      <td>1923</td>\n    </tr>\n    <tr>\n      <th>up</th>\n      <td>1075</td>\n    </tr>\n  </tbody>\n</table>\n</div>"
     },
     "execution_count": 10,
     "metadata": {},
     "output_type": "execute_result"
    }
   ],
   "source": [
    "df.groupby('direction').agg({'value': 'sum'})"
   ],
   "metadata": {
    "collapsed": false,
    "pycharm": {
     "name": "#%%\n"
    }
   }
  },
  {
   "cell_type": "code",
   "execution_count": 12,
   "outputs": [
    {
     "data": {
      "text/plain": "1924923"
     },
     "execution_count": 12,
     "metadata": {},
     "output_type": "execute_result"
    }
   ],
   "source": [
    "(2076 - 1075) * 1923"
   ],
   "metadata": {
    "collapsed": false,
    "pycharm": {
     "name": "#%%\n"
    }
   }
  },
  {
   "cell_type": "code",
   "execution_count": 22,
   "outputs": [
    {
     "name": "stdout",
     "output_type": "stream",
     "text": [
      "1982495697\n"
     ]
    }
   ],
   "source": [
    "class Submarine:\n",
    "    def __init__(self):\n",
    "        self.current_aim = 0\n",
    "        self.current_depth = 0\n",
    "        self.current_x_pos = 0\n",
    "\n",
    "    def down(self, value: int):\n",
    "        self.current_aim = self.current_aim + value\n",
    "\n",
    "    def up(self, value: int):\n",
    "        self.current_aim = self.current_aim - value\n",
    "\n",
    "    def forward(self, value: int):\n",
    "        self.current_x_pos = self.current_x_pos + value\n",
    "        self.current_depth = self.current_depth + (self.current_aim * value)\n",
    "\n",
    "submarine = Submarine()\n",
    "fns = {\n",
    "    'down': submarine.down, 'up': submarine.up, 'forward': submarine.forward\n",
    "}\n",
    "with open('input') as f:\n",
    "    lines = f.readlines()\n",
    "    for line in lines:\n",
    "        direction, value = line.split()\n",
    "        fns[direction](int(value))\n",
    "print(submarine.current_depth * submarine.current_x_pos)"
   ],
   "metadata": {
    "collapsed": false,
    "pycharm": {
     "name": "#%%\n"
    }
   }
  }
 ],
 "metadata": {
  "kernelspec": {
   "display_name": "Python 3",
   "language": "python",
   "name": "python3"
  },
  "language_info": {
   "codemirror_mode": {
    "name": "ipython",
    "version": 2
   },
   "file_extension": ".py",
   "mimetype": "text/x-python",
   "name": "python",
   "nbconvert_exporter": "python",
   "pygments_lexer": "ipython2",
   "version": "2.7.6"
  }
 },
 "nbformat": 4,
 "nbformat_minor": 0
}
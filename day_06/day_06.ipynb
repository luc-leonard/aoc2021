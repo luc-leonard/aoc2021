{
 "cells": [
  {
   "cell_type": "code",
   "execution_count": 33,
   "outputs": [],
   "source": [
    "import numpy as np\n",
    "from collections import Counter"
   ],
   "metadata": {
    "collapsed": false,
    "pycharm": {
     "name": "#%%\n"
    }
   }
  },
  {
   "cell_type": "code",
   "execution_count": 34,
   "metadata": {
    "collapsed": true
   },
   "outputs": [],
   "source": [
    "with open('input') as f:\n",
    "    values = np.array([int(x) for x in f.read().split(',')])"
   ]
  },
  {
   "cell_type": "code",
   "execution_count": 35,
   "outputs": [
    {
     "name": "stdout",
     "output_type": "stream",
     "text": [
      "initial state: [4 2 4 1 5 1 2 2 4 1 1 2 2 2 4 4 1 2 1 1 4 1 2 1 2 2 2 2 5 2 2 3 1 4 4 4 1\n",
      " 2 3 4 4 5 4 3 5 1 2 5 1 1 5 5 1 4 4 5 1 3 1 4 5 5 5 4 1 2 3 4 2 1 2 1 2 2\n",
      " 1 5 5 1 1 1 1 5 2 2 2 4 2 4 2 4 2 1 2 1 2 4 2 4 1 3 5 5 2 4 4 2 2 2 2 3 3\n",
      " 2 1 1 1 1 4 3 2 5 4 3 5 3 1 5 5 2 4 1 1 2 1 3 5 1 5 3 1 3 1 4 5 1 1 3 2 1\n",
      " 1 1 5 2 1 2 4 2 3 3 2 3 5 1 5 1 2 1 5 2 4 1 2 4 4 1 5 1 1 5 2 2 5 5 3 1 2\n",
      " 2 1 1 4 1 5 4 5 5 2 2 1 1 2 5 4 3 2 2 5 4 2 5 4 4 2 3 1 1 1 5 5 4 5 3 2 5\n",
      " 3 4 5 1 4 1 1 3 4 4 1 1 5 1 4 1 2 1 4 1 1 3 1 5 2 5 1 5 2 5 2 5 4 1 1 4 4\n",
      " 2 3 1 5 2 5 1 5 2 1 1 1 2 1 1 1 4 4 5 4 4 1 4 2 2 2 5 3 2 4 4 5 5 1 1 1 1\n",
      " 3 1 2 1]\n",
      "353274\n"
     ]
    }
   ],
   "source": [
    "def epoch(values: np.ndarray) -> np.ndarray:\n",
    "    values = values - 1\n",
    "    producing_fish = values == -1\n",
    "    number_of_new_fishes = np.sum(producing_fish)\n",
    "    values[producing_fish] = 6\n",
    "    values = np.append(values, np.full(number_of_new_fishes, 8))\n",
    "    return values\n",
    "\n",
    "print('initial state:', values)\n",
    "part_1_values = values.copy()\n",
    "for i in range(80):\n",
    "    part_1_values = epoch(part_1_values)\n",
    "    # print(f'after {i} days:', values)\n",
    "print(len(part_1_values))"
   ],
   "metadata": {
    "collapsed": false,
    "pycharm": {
     "name": "#%%\n"
    }
   }
  },
  {
   "cell_type": "code",
   "execution_count": 39,
   "outputs": [
    {
     "name": "stdout",
     "output_type": "stream",
     "text": [
      "initial state: [ 0. 90. 72. 28. 55. 55.  0.  0.  0.]\n",
      "1609314870967.0\n",
      "CPU times: user 5.71 ms, sys: 12 µs, total: 5.72 ms\n",
      "Wall time: 4.27 ms\n"
     ]
    }
   ],
   "source": [
    "%%time\n",
    "\n",
    "def opt_epoch(values: np.ndarray) -> np.ndarray:\n",
    "    producing_fishes = values[0]\n",
    "    values = np.roll(values, -1)\n",
    "    values[8] = producing_fishes\n",
    "    values[6] += producing_fishes\n",
    "    return values\n",
    "\n",
    "part_2_values = np.zeros(9)\n",
    "for state, amount in Counter(values).items():\n",
    "    part_2_values[state] = amount\n",
    "print('initial state:', part_2_values)\n",
    "for i in range(256):\n",
    "    part_2_values = opt_epoch(part_2_values)\n",
    "print(np.sum(part_2_values))"
   ],
   "metadata": {
    "collapsed": false,
    "pycharm": {
     "name": "#%%\n"
    }
   }
  }
 ],
 "metadata": {
  "kernelspec": {
   "display_name": "Python 3",
   "language": "python",
   "name": "python3"
  },
  "language_info": {
   "codemirror_mode": {
    "name": "ipython",
    "version": 2
   },
   "file_extension": ".py",
   "mimetype": "text/x-python",
   "name": "python",
   "nbconvert_exporter": "python",
   "pygments_lexer": "ipython2",
   "version": "2.7.6"
  }
 },
 "nbformat": 4,
 "nbformat_minor": 0
}
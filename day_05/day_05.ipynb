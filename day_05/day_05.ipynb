{
 "cells": [
  {
   "cell_type": "code",
   "execution_count": 118,
   "outputs": [],
   "source": [
    "import numpy as np\n",
    "from typing import Iterable\n"
   ],
   "metadata": {
    "collapsed": false,
    "pycharm": {
     "name": "#%%\n"
    }
   }
  },
  {
   "cell_type": "code",
   "execution_count": 119,
   "outputs": [],
   "source": [
    "class Point:\n",
    "    def __init__(self, x, y):\n",
    "        self.x = x\n",
    "        self.y = y\n",
    "\n",
    "    def __str__(self):\n",
    "        return \"({}, {})\".format(self.x, self.y)\n",
    "\n",
    "    def __repr__(self):\n",
    "        return \"Point({}, {})\".format(self.x, self.y)\n",
    "\n",
    "class Line:\n",
    "    def __init__(self, begin: Point, end: Point):\n",
    "        self.begin = begin\n",
    "        self.end = end\n",
    "\n",
    "    def __str__(self):\n",
    "        return f\"Line({self.begin}, {self.end})\"\n",
    "\n",
    "    def __repr__(self):\n",
    "        return str(self)\n",
    "\n",
    "    def get_all_points(self, diagonals_ok=False) -> Iterable[Point]:\n",
    "        if self.begin.x == self.end.x:\n",
    "            for y in range(min(self.begin.y, self.end.y), max(self.begin.y, self.end.y) + 1):\n",
    "                yield Point(self.begin.x, y)\n",
    "        elif self.begin.y == self.end.y:\n",
    "            for x in range(min(self.begin.x, self.end.x), max(self.begin.x, self.end.x) + 1):\n",
    "                yield Point(x, self.begin.y)\n",
    "        else:\n",
    "            if diagonals_ok:\n",
    "                x1, y1, x2, y2 = self.begin.x, self.begin.y, self.end.x, self.end.y\n",
    "                if x1>x2:\n",
    "                    x1,x2, y1,y2 = x2,x1, y2,y1\n",
    "                for x in range(x1,x2+1):\n",
    "                    if y2>y1:\n",
    "                        y = y1+(x-x1)\n",
    "                    else:\n",
    "                        y = y1-(x-x1)\n",
    "                    yield Point(x,y)\n",
    "\n",
    "            else:\n",
    "                ...\n",
    "\n",
    "\n",
    "\n",
    "lines = []\n",
    "with open('input') as f:\n",
    "    for raw_line in f:\n",
    "        begin, end = raw_line.split('->')\n",
    "        begin_x, begin_y = begin.split(',')\n",
    "        end_x, end_y = end.split(',')\n",
    "        lines.append(Line(Point(int(begin_x), int(begin_y)), Point(int(end_x), int(end_y))))\n",
    "\n",
    "max_x = max([line.begin.x for line in lines] + [line.end.x for line in lines])\n",
    "max_y = max([line.begin.y for line in lines] + [line.end.y for line in lines])"
   ],
   "metadata": {
    "collapsed": false,
    "pycharm": {
     "name": "#%%\n"
    }
   }
  },
  {
   "cell_type": "code",
   "execution_count": 120,
   "outputs": [],
   "source": [
    "grid = np.zeros((max_x + 1, max_y + 1))\n",
    "for line in lines:\n",
    "   for point in line.get_all_points():\n",
    "       grid[point.y, point.x] += 1"
   ],
   "metadata": {
    "collapsed": false,
    "pycharm": {
     "name": "#%%\n"
    }
   }
  },
  {
   "cell_type": "code",
   "execution_count": 121,
   "outputs": [
    {
     "data": {
      "text/plain": "7318"
     },
     "execution_count": 121,
     "metadata": {},
     "output_type": "execute_result"
    }
   ],
   "source": [
    "(grid >=2).sum()"
   ],
   "metadata": {
    "collapsed": false,
    "pycharm": {
     "name": "#%%\n"
    }
   }
  },
  {
   "cell_type": "code",
   "execution_count": 122,
   "outputs": [],
   "source": [
    "grid = np.zeros((max_x + 1, max_y + 1))\n",
    "diagonals_grid = np.zeros((max_x + 1, max_y + 1))\n",
    "for line in lines:\n",
    "    for point in line.get_all_points(diagonals_ok=True):\n",
    "        grid[point.y, point.x] += 1\n"
   ],
   "metadata": {
    "collapsed": false,
    "pycharm": {
     "name": "#%%\n"
    }
   }
  },
  {
   "cell_type": "code",
   "execution_count": 123,
   "outputs": [
    {
     "data": {
      "text/plain": "19939"
     },
     "execution_count": 123,
     "metadata": {},
     "output_type": "execute_result"
    }
   ],
   "source": [
    "(grid >=2).sum()"
   ],
   "metadata": {
    "collapsed": false,
    "pycharm": {
     "name": "#%%\n"
    }
   }
  }
 ],
 "metadata": {
  "kernelspec": {
   "display_name": "Python 3",
   "language": "python",
   "name": "python3"
  },
  "language_info": {
   "codemirror_mode": {
    "name": "ipython",
    "version": 2
   },
   "file_extension": ".py",
   "mimetype": "text/x-python",
   "name": "python",
   "nbconvert_exporter": "python",
   "pygments_lexer": "ipython2",
   "version": "2.7.6"
  }
 },
 "nbformat": 4,
 "nbformat_minor": 0
}